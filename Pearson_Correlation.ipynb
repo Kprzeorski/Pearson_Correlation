{
 "cells": [
  {
   "cell_type": "code",
   "execution_count": 52,
   "metadata": {},
   "outputs": [],
   "source": [
    "# Pearson's Correlation Coefficient (interval or ratio-level data only)\n",
    "# Null hypothesis : variables are unrelated \n",
    "# Using T-statistc, compute p-value and conclude if correlation value lets us reject or fail to reject Null hypothesis:\n",
    "# Assuming Null hypothesis is true, if T-statistic / probability is greater['more extreme'] (outside our confidence level - \n",
    "# usually 95%) (alpha/significance level of 1-.95) than we can reject the null hypothesis\n",
    "# coefficient of determination is calculated to show how much of one variable's variation is explained by\n",
    "# the other"
   ]
  },
  {
   "cell_type": "code",
   "execution_count": null,
   "metadata": {},
   "outputs": [],
   "source": [
    "import numpy as np"
   ]
  },
  {
   "cell_type": "code",
   "execution_count": null,
   "metadata": {},
   "outputs": [],
   "source": [
    "# correlation between female height and IQ test scores ?\n",
    "x = [60,62,63,65,65,67,68,70,70,71]\n",
    "iq = [103,100,98,95,110,108,104,110,97,100]"
   ]
  },
  {
   "cell_type": "code",
   "execution_count": 51,
   "metadata": {
    "scrolled": true
   },
   "outputs": [
    {
     "data": {
      "text/plain": [
       "0.13479445495963893"
      ]
     },
     "execution_count": 51,
     "metadata": {},
     "output_type": "execute_result"
    }
   ],
   "source": [
    "# Pearson's correlation value\n",
    "xave=np.mean(x)\n",
    "iqave=np.mean(iq)\n",
    "SSxiq=0\n",
    "SSx=0\n",
    "SSiq=0\n",
    "for i in range(0,len(x)):\n",
    "    SSxiq+=((x[i]-xave) * (iq[i]-iqave))\n",
    "    SSx+=((x[i]-xave)**2)\n",
    "    SSiq+=((iq[i]-iqave)**2)\n",
    "r=SSxiq/ (np.sqrt(SSx*SSiq))\n",
    "r"
   ]
  },
  {
   "cell_type": "code",
   "execution_count": 54,
   "metadata": {},
   "outputs": [
    {
     "data": {
      "text/plain": [
       "0.3847678449746267"
      ]
     },
     "execution_count": 54,
     "metadata": {},
     "output_type": "execute_result"
    }
   ],
   "source": [
    "# T-statistic:\n",
    "t = (r* np.sqrt(len(x)-2))  /  (np.sqrt(1-(r**2)))\n",
    "t"
   ]
  },
  {
   "cell_type": "code",
   "execution_count": 71,
   "metadata": {
    "scrolled": true
   },
   "outputs": [
    {
     "name": "stdout",
     "output_type": "stream",
     "text": [
      "This sample data is likely to be observed assuming a true null hypothesis,    assuming hypothesis is true, so fail to reject the null hypothesis, moreover, these variables are not correlated.\n",
      "1.816954508786613% of one variable can be explained from the other and vice versa.\n"
     ]
    }
   ],
   "source": [
    "# degrees of freedom (df) is n-1 (number of data records - 1)\n",
    "# E.G. : At alpha = .05 and df=9 , consult t-table and 'critical value' is 1.833\n",
    "critical_value=1.833\n",
    "if t > critical_value:\n",
    "    print(\"This sample data is at least as extreme or more extreme \\\n",
    "    assuming the null hypothesis is true, so reject null hypothesis, moreover, these variables are correlated.\")\n",
    "else:\n",
    "    print(\"This sample data is likely to be observed assuming a true null hypothesis,\\\n",
    "    assuming hypothesis is true, so fail to reject the null hypothesis, moreover, these variables are not correlated.\")\n",
    "    \n",
    "coefficient_of_determination = r**2\n",
    "print(str(coefficient_of_determination*100)+\"% of one variable can be explained from the other and vice versa.\")"
   ]
  },
  {
   "cell_type": "code",
   "execution_count": null,
   "metadata": {},
   "outputs": [],
   "source": []
  }
 ],
 "metadata": {
  "kernelspec": {
   "display_name": "Python 3",
   "language": "python",
   "name": "python3"
  },
  "language_info": {
   "codemirror_mode": {
    "name": "ipython",
    "version": 3
   },
   "file_extension": ".py",
   "mimetype": "text/x-python",
   "name": "python",
   "nbconvert_exporter": "python",
   "pygments_lexer": "ipython3",
   "version": "3.6.5"
  }
 },
 "nbformat": 4,
 "nbformat_minor": 2
}
